{
 "cells": [
  {
   "cell_type": "code",
   "execution_count": 72,
   "metadata": {
    "ExecuteTime": {
     "end_time": "2018-06-29T12:40:34.678472Z",
     "start_time": "2018-06-29T12:40:33.666928Z"
    },
    "run_control": {
     "frozen": false,
     "read_only": false
    }
   },
   "outputs": [],
   "source": [
    "from urllib.request import urlopen\n",
    "from bs4 import BeautifulSoup\n",
    "import bs4\n",
    "import re\n",
    "\n",
    "results = {}\n",
    "\n",
    "url = \"https://www.stwdo.de/mensa-co/tu-dortmund/hauptmensa/\"\n",
    "#for testing purposes\n",
    "url = \"https://www.stwdo.de/mensa-co/tu-dortmund/hauptmensa/?tx_pamensa_mensa%5Baction%5D=day&tx_pamensa_mensa%5Bcontroller%5D=OnlinePlan&cHash=d69c17785f24fe4043453debb1687c81\"\n",
    "page = urlopen(url)\n",
    "soup = BeautifulSoup(page, 'html.parser')"
   ]
  },
  {
   "cell_type": "code",
   "execution_count": 54,
   "metadata": {
    "ExecuteTime": {
     "end_time": "2018-06-29T12:36:52.281151Z",
     "start_time": "2018-06-29T12:36:52.259072Z"
    },
    "run_control": {
     "frozen": false,
     "read_only": false
    }
   },
   "outputs": [
    {
     "data": {
      "text/plain": [
       "'11:30 bis 14:00'"
      ]
     },
     "execution_count": 54,
     "metadata": {},
     "output_type": "execute_result"
    }
   ],
   "source": [
    "# Öffnungszeiten\n",
    "box = soup.find('span',attrs={\"id\":\"timer--inner-1\"})\n",
    "text = box.text.strip()\n",
    "search_result = re.search(r\"((\\d.*\\d))\",text)\n",
    "results[\"Öffnungszeiten\"] = search_result.group(0).lower()\n",
    "results[\"Öffnungszeiten\"]"
   ]
  },
  {
   "cell_type": "code",
   "execution_count": 217,
   "metadata": {
    "ExecuteTime": {
     "end_time": "2018-06-29T13:25:14.278311Z",
     "start_time": "2018-06-29T13:25:14.275098Z"
    },
    "run_control": {
     "frozen": false,
     "read_only": false
    }
   },
   "outputs": [],
   "source": [
    "def emojify(string):\n",
    "    rules = {\"Vegane Speise\":\"🌱 (vegan)\",\"Kinderteller\":\"🧒\",\"Mit Fisch bzw. Meeresfrüchten\":\"🐟\", \"Mit Geflügel\":\"🐣\", \"Ohne Fleisch\":\"🌱 (ohne Fleisch)\"}\n",
    "    for key in rules:\n",
    "        string = re.sub(key,emojis[key],string)\n",
    "    return string"
   ]
  },
  {
   "cell_type": "code",
   "execution_count": 218,
   "metadata": {
    "ExecuteTime": {
     "end_time": "2018-06-29T13:25:28.072292Z",
     "start_time": "2018-06-29T13:25:28.063411Z"
    },
    "run_control": {
     "frozen": false,
     "read_only": false
    }
   },
   "outputs": [],
   "source": [
    "class Gericht():\n",
    "    def __init__(self,category,description,tags,price):\n",
    "        self.price = re.search(\"([\\d.,]*)\\W?€\",price).group(0)\n",
    "        self.tags = tags\n",
    "        self.description = description\n",
    "        self.category = category\n",
    "        \n",
    "    def __repr__(self):\n",
    "        return self.category\n",
    "    \n",
    "    def __str__(self):\n",
    "        return self.beautiful_description() + \"\\t\" + self.price + \"\\t\" + str(self.tags_as_emoji())\n",
    "    \n",
    "    def beautiful_description(self):\n",
    "        removed_tags = re.sub(\"\\([0-9abcde,]*\\)\", '',i.description) # removes tags like \"(1a)\",\"(15,18,20b)\"\n",
    "        beautify = re.sub(\"\\W?,\\W?\",\", \",removed_tags)\n",
    "        beautify = re.sub(\"\\W\\W\",\" \",beautify)\n",
    "        #beautify = re.sub(\".?$\",\".\",beautify)\n",
    "        return beautify\n",
    "    \n",
    "    def tags_as_emoji(self):\n",
    "        tags = []\n",
    "        for i in self.tags:\n",
    "            tags.append(emojify(i))\n",
    "        return tags"
   ]
  },
  {
   "cell_type": "code",
   "execution_count": 219,
   "metadata": {
    "ExecuteTime": {
     "end_time": "2018-06-29T13:25:29.861496Z",
     "start_time": "2018-06-29T13:25:29.821891Z"
    },
    "run_control": {
     "frozen": false,
     "read_only": false
    }
   },
   "outputs": [],
   "source": [
    "menu = soup.find('div',attrs={\"class\":\"meals-body\"})\n",
    "gerichte = []\n",
    "for i in menu.children:\n",
    "    if type(i) == bs4.element.Tag:\n",
    "        if i.find('div', attrs={\"class\":\"item description\"}):\n",
    "            tag = i.find_all(\"div\",attrs={\"class\":re.compile(\"item category\")})\n",
    "            tag = tag[0].find(\"img\")\n",
    "            category = tag.attrs[\"alt\"]\n",
    "            desc = i.find('div', attrs={\"class\":\"item description\"}).text.strip()\n",
    "            price = i.find('div',attrs={\"class\":\"item price student\"}).text.strip()\n",
    "            tags = list([k.attrs['alt'] for k in i.find('div',attrs={\"class\":\"item supplies\"}).findAll('img')])\n",
    "            gerichte.append(Gericht(category,desc,tags,price))"
   ]
  },
  {
   "cell_type": "code",
   "execution_count": 222,
   "metadata": {
    "ExecuteTime": {
     "end_time": "2018-06-29T13:25:50.563755Z",
     "start_time": "2018-06-29T13:25:50.558839Z"
    },
    "run_control": {
     "frozen": false,
     "read_only": false
    }
   },
   "outputs": [],
   "source": [
    "results[\"FullMenu\"] = gerichte\n",
    "results[\"Menu\"] = list([i for i in gerichte if (i.category == \"Tagesgericht\" or i.category == \"Menü 1\"  or i.category == \"Menü 2\" or i.category==\"Vegetarisches Menü\" or i.category==\"Aktionsteller Fisch\" or i.category==\"Aktionsteller Vegan\")])"
   ]
  },
  {
   "cell_type": "code",
   "execution_count": 224,
   "metadata": {
    "ExecuteTime": {
     "end_time": "2018-06-29T13:25:53.680565Z",
     "start_time": "2018-06-29T13:25:53.674084Z"
    },
    "run_control": {
     "frozen": false,
     "read_only": false
    }
   },
   "outputs": [
    {
     "name": "stdout",
     "output_type": "stream",
     "text": [
      "Bavette mit Kokos-Limettensauce dazu Salat und Dessert\t1,60 €\t['🌱 (vegan)', '\\U0001f9d2']\n",
      "Putengeschnetzeltes Griechisch  dazu 3 Beilagen nach Wahl\t2,00 €\t['🐣', '\\U0001f9d2']\n",
      "Gebackenes Fischfilet mit Knoblauch Dip dazu 3 Beilagen nach Wahl\t2,50 €\t['🐟', '\\U0001f9d2']\n",
      "Röstoppers mit Frischkäse mit Sauerrahm Dip dazu 3 Beilagen nach Wahl\t2,50 €\t['🌱 (ohne Fleisch)', '\\U0001f9d2']\n",
      "Pazifisches Schollenfilet mit Kartoffel-Kruste und Dillsauce dazu Pariser Kartoffeln und Salat \t3,90 €\t['🐟']\n",
      "Faggottini Pomodori mit Pesto dazu Salat und Stangenbrot \t2,80 €\t['🌱 (vegan)']\n"
     ]
    }
   ],
   "source": [
    "for i in results[\"Menu\"]:\n",
    "    print(i)"
   ]
  },
  {
   "cell_type": "code",
   "execution_count": null,
   "metadata": {
    "ExecuteTime": {
     "end_time": "2018-06-29T13:05:11.386380Z",
     "start_time": "2018-06-29T13:05:11.379592Z"
    },
    "run_control": {
     "frozen": false,
     "read_only": false
    }
   },
   "outputs": [],
   "source": []
  },
  {
   "cell_type": "code",
   "execution_count": 208,
   "metadata": {
    "ExecuteTime": {
     "end_time": "2018-06-29T13:16:41.283145Z",
     "start_time": "2018-06-29T13:16:41.278464Z"
    },
    "run_control": {
     "frozen": false,
     "read_only": false
    }
   },
   "outputs": [
    {
     "data": {
      "text/plain": [
       "{'Menus': [Tagesgericht,\n",
       "  Menü 1,\n",
       "  Menü 2,\n",
       "  Vegetarisches Menü,\n",
       "  Aktionsteller Fisch,\n",
       "  Aktionsteller Vegan]}"
      ]
     },
     "execution_count": 208,
     "metadata": {},
     "output_type": "execute_result"
    }
   ],
   "source": [
    "results"
   ]
  }
 ],
 "metadata": {
  "hide_input": false,
  "kernelspec": {
   "display_name": "Python 3",
   "language": "python",
   "name": "python3"
  },
  "language_info": {
   "codemirror_mode": {
    "name": "ipython",
    "version": 3
   },
   "file_extension": ".py",
   "mimetype": "text/x-python",
   "name": "python",
   "nbconvert_exporter": "python",
   "pygments_lexer": "ipython3",
   "version": "3.6.5"
  },
  "latex_envs": {
   "bibliofile": "biblio.bib",
   "cite_by": "apalike",
   "current_citInitial": 1,
   "eqLabelWithNumbers": true,
   "eqNumInitial": 0
  },
  "toc": {
   "colors": {
    "hover_highlight": "#DAA520",
    "running_highlight": "#FF0000",
    "selected_highlight": "#FFD700"
   },
   "moveMenuLeft": true,
   "nav_menu": {
    "height": "12px",
    "width": "252px"
   },
   "navigate_menu": true,
   "number_sections": true,
   "sideBar": true,
   "threshold": 4,
   "toc_cell": false,
   "toc_section_display": "block",
   "toc_window_display": false
  }
 },
 "nbformat": 4,
 "nbformat_minor": 2
}
